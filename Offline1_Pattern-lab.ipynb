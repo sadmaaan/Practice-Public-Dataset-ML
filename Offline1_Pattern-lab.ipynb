{
  "nbformat": 4,
  "nbformat_minor": 0,
  "metadata": {
    "colab": {
      "name": "Offline1_011171147.ipynb",
      "provenance": [],
      "collapsed_sections": [],
      "authorship_tag": "ABX9TyNmClrL//QDkMtAdxmdAaqX",
      "include_colab_link": true
    },
    "kernelspec": {
      "name": "python3",
      "display_name": "Python 3"
    },
    "language_info": {
      "name": "python"
    }
  },
  "cells": [
    {
      "cell_type": "markdown",
      "metadata": {
        "id": "view-in-github",
        "colab_type": "text"
      },
      "source": [
        "<a href=\"https://colab.research.google.com/github/sadmaaan/Practice-Public-Dataset-ML/blob/main/Offline1_Pattern-lab.ipynb\" target=\"_parent\"><img src=\"https://colab.research.google.com/assets/colab-badge.svg\" alt=\"Open In Colab\"/></a>"
      ]
    },
    {
      "cell_type": "code",
      "metadata": {
        "id": "bNIhrpDeMkDB"
      },
      "source": [
        "import pandas as pd\n",
        "from sklearn.model_selection import train_test_split\n",
        "from sklearn import metrics\n",
        "from sklearn.metrics import classification_report"
      ],
      "execution_count": 28,
      "outputs": []
    },
    {
      "cell_type": "code",
      "metadata": {
        "id": "DOkFBxYFM6kX"
      },
      "source": [
        "df = pd.read_csv(\"tic-tac-toe.csv\")"
      ],
      "execution_count": 3,
      "outputs": []
    },
    {
      "cell_type": "code",
      "metadata": {
        "colab": {
          "base_uri": "https://localhost:8080/",
          "height": 220
        },
        "id": "OMyH-cQwNGVt",
        "outputId": "c02184e7-bd06-4736-9614-867a71c12780"
      },
      "source": [
        "df.head()"
      ],
      "execution_count": 4,
      "outputs": [
        {
          "output_type": "execute_result",
          "data": {
            "text/html": [
              "<div>\n",
              "<style scoped>\n",
              "    .dataframe tbody tr th:only-of-type {\n",
              "        vertical-align: middle;\n",
              "    }\n",
              "\n",
              "    .dataframe tbody tr th {\n",
              "        vertical-align: top;\n",
              "    }\n",
              "\n",
              "    .dataframe thead th {\n",
              "        text-align: right;\n",
              "    }\n",
              "</style>\n",
              "<table border=\"1\" class=\"dataframe\">\n",
              "  <thead>\n",
              "    <tr style=\"text-align: right;\">\n",
              "      <th></th>\n",
              "      <th>top-left-square</th>\n",
              "      <th>top-middle-square</th>\n",
              "      <th>top-right-square</th>\n",
              "      <th>middle-left-square</th>\n",
              "      <th>middle-middle-square</th>\n",
              "      <th>middle-right-square</th>\n",
              "      <th>bottom-left-square</th>\n",
              "      <th>bottom-middle-square</th>\n",
              "      <th>bottom-right-square</th>\n",
              "      <th>Class</th>\n",
              "    </tr>\n",
              "  </thead>\n",
              "  <tbody>\n",
              "    <tr>\n",
              "      <th>0</th>\n",
              "      <td>x</td>\n",
              "      <td>x</td>\n",
              "      <td>x</td>\n",
              "      <td>x</td>\n",
              "      <td>o</td>\n",
              "      <td>o</td>\n",
              "      <td>x</td>\n",
              "      <td>o</td>\n",
              "      <td>o</td>\n",
              "      <td>positive</td>\n",
              "    </tr>\n",
              "    <tr>\n",
              "      <th>1</th>\n",
              "      <td>x</td>\n",
              "      <td>x</td>\n",
              "      <td>x</td>\n",
              "      <td>x</td>\n",
              "      <td>o</td>\n",
              "      <td>o</td>\n",
              "      <td>o</td>\n",
              "      <td>x</td>\n",
              "      <td>o</td>\n",
              "      <td>positive</td>\n",
              "    </tr>\n",
              "    <tr>\n",
              "      <th>2</th>\n",
              "      <td>x</td>\n",
              "      <td>x</td>\n",
              "      <td>x</td>\n",
              "      <td>x</td>\n",
              "      <td>o</td>\n",
              "      <td>o</td>\n",
              "      <td>o</td>\n",
              "      <td>o</td>\n",
              "      <td>x</td>\n",
              "      <td>positive</td>\n",
              "    </tr>\n",
              "    <tr>\n",
              "      <th>3</th>\n",
              "      <td>x</td>\n",
              "      <td>x</td>\n",
              "      <td>x</td>\n",
              "      <td>x</td>\n",
              "      <td>o</td>\n",
              "      <td>o</td>\n",
              "      <td>o</td>\n",
              "      <td>b</td>\n",
              "      <td>b</td>\n",
              "      <td>positive</td>\n",
              "    </tr>\n",
              "    <tr>\n",
              "      <th>4</th>\n",
              "      <td>x</td>\n",
              "      <td>x</td>\n",
              "      <td>x</td>\n",
              "      <td>x</td>\n",
              "      <td>o</td>\n",
              "      <td>o</td>\n",
              "      <td>b</td>\n",
              "      <td>o</td>\n",
              "      <td>b</td>\n",
              "      <td>positive</td>\n",
              "    </tr>\n",
              "  </tbody>\n",
              "</table>\n",
              "</div>"
            ],
            "text/plain": [
              "  top-left-square top-middle-square  ... bottom-right-square     Class\n",
              "0               x                 x  ...                   o  positive\n",
              "1               x                 x  ...                   o  positive\n",
              "2               x                 x  ...                   x  positive\n",
              "3               x                 x  ...                   b  positive\n",
              "4               x                 x  ...                   b  positive\n",
              "\n",
              "[5 rows x 10 columns]"
            ]
          },
          "metadata": {},
          "execution_count": 4
        }
      ]
    },
    {
      "cell_type": "code",
      "metadata": {
        "colab": {
          "base_uri": "https://localhost:8080/"
        },
        "id": "wz0SUtBsNZiD",
        "outputId": "a84b2f10-cbf1-42d3-e687-b7acc0667995"
      },
      "source": [
        "X = df.iloc[:,:-1]\n",
        "y = df.iloc[:,-1]\n",
        "print(X)\n",
        "print(y)"
      ],
      "execution_count": 5,
      "outputs": [
        {
          "output_type": "stream",
          "name": "stdout",
          "text": [
            "    top-left-square top-middle-square  ... bottom-middle-square bottom-right-square\n",
            "0                 x                 x  ...                    o                   o\n",
            "1                 x                 x  ...                    x                   o\n",
            "2                 x                 x  ...                    o                   x\n",
            "3                 x                 x  ...                    b                   b\n",
            "4                 x                 x  ...                    o                   b\n",
            "..              ...               ...  ...                  ...                 ...\n",
            "953               o                 x  ...                    x                   x\n",
            "954               o                 x  ...                    o                   x\n",
            "955               o                 x  ...                    o                   x\n",
            "956               o                 x  ...                    o                   x\n",
            "957               o                 o  ...                    x                   x\n",
            "\n",
            "[958 rows x 9 columns]\n",
            "0      positive\n",
            "1      positive\n",
            "2      positive\n",
            "3      positive\n",
            "4      positive\n",
            "         ...   \n",
            "953    negative\n",
            "954    negative\n",
            "955    negative\n",
            "956    negative\n",
            "957    negative\n",
            "Name: Class, Length: 958, dtype: object\n"
          ]
        }
      ]
    },
    {
      "cell_type": "code",
      "metadata": {
        "id": "Sww5e0GS6l0U"
      },
      "source": [
        "def fit(X_train, y_train):\n",
        "  p_positive, p_negative = 0, 0\n",
        "  for y in y_train:\n",
        "    if y == 'positive':\n",
        "      p_positive += 1\n",
        "    else:\n",
        "      p_negative += 1\n",
        "\n",
        "  attributes = [ {} for col in X_train.columns]\n",
        "  for index, col in enumerate(X_train.columns):\n",
        "    for i in X_train.index:\n",
        "      attr_val = X_train[col][i]\n",
        "      if attr_val in attributes[index]:\n",
        "        c = y_train[i]\n",
        "        if c == 'positive':\n",
        "          attributes[index][attr_val][1] += 1\n",
        "        else:\n",
        "          attributes[index][attr_val][0] += 1\n",
        "      else:\n",
        "        attributes[index][attr_val] = [0, 0]\n",
        "        c = y_train[i]\n",
        "        if c == 'positive':\n",
        "          attributes[index][attr_val][1] += 1\n",
        "        else:\n",
        "          attributes[index][attr_val][0] += 1\n",
        "\n",
        "  return p_positive/X_train.shape[0], p_negative/X_train.shape[0], attributes"
      ],
      "execution_count": 6,
      "outputs": []
    },
    {
      "cell_type": "code",
      "metadata": {
        "id": "NTI90bOMfiRH"
      },
      "source": [
        "def predict(X_test, p_positive, p_negative, attr_prob):\n",
        "  y_pred = []\n",
        "\n",
        "  for i in X_test.index:\n",
        "    pos = p_positive\n",
        "    neg = p_negative\n",
        "    for ind,col in enumerate(X_test.columns):\n",
        "      attr = X_test[col][i]\n",
        "      pos *= ((attr_prob[ind][attr][1]) / p_positive)\n",
        "      neg *= ((attr_prob[ind][attr][0]) / p_negative)\n",
        "\n",
        "    p = pos / (pos + neg)\n",
        "    n = 1 - p\n",
        "\n",
        "    if p > n:\n",
        "      y_pred.append('positive')\n",
        "    else:\n",
        "      y_pred.append('negative')\n",
        "  \n",
        "  return y_pred\n"
      ],
      "execution_count": 7,
      "outputs": []
    },
    {
      "cell_type": "code",
      "metadata": {
        "id": "8roAqQCBhsUx",
        "colab": {
          "base_uri": "https://localhost:8080/"
        },
        "outputId": "59716fb4-df8d-4061-a71c-413085afecfe"
      },
      "source": [
        "# Without Stratify\n",
        "X_train, X_test, y_train, y_test = train_test_split(X, y, test_size=0.1, random_state=2)\n",
        "p_positive, p_negative, attr_prob = fit(X_train, y_train)\n",
        "\n",
        "#print(p_positive, p_negative, attr_prob)\n",
        "\n",
        "y_pred = predict(X_test, p_positive, p_negative, attr_prob)\n",
        "\n",
        "acc = metrics.accuracy_score(y_test, y_pred)\n",
        "print(\"Accuracy:\", acc)\n",
        "print('')\n",
        "print(classification_report(y_test,y_pred))"
      ],
      "execution_count": 26,
      "outputs": [
        {
          "output_type": "stream",
          "name": "stdout",
          "text": [
            "Accuracy: 0.6875\n",
            "\n",
            "              precision    recall  f1-score   support\n",
            "\n",
            "    negative       0.59      0.49      0.53        35\n",
            "    positive       0.73      0.80      0.77        61\n",
            "\n",
            "    accuracy                           0.69        96\n",
            "   macro avg       0.66      0.64      0.65        96\n",
            "weighted avg       0.68      0.69      0.68        96\n",
            "\n"
          ]
        }
      ]
    },
    {
      "cell_type": "code",
      "metadata": {
        "colab": {
          "base_uri": "https://localhost:8080/"
        },
        "id": "SDNEMRR0lmtS",
        "outputId": "074d87c4-53c4-40f4-cb72-9d5f78c86ad3"
      },
      "source": [
        "# Using stratify\n",
        "Xstr_train, Xstr_test, ystr_train, ystr_test = train_test_split(X, y, test_size=0.1, stratify=y)\n",
        "p_positive_str, p_negative_str, attr_prob_str = fit(Xstr_train, ystr_train)\n",
        "\n",
        "y_pred_str = predict(Xstr_test, p_positive_str, p_negative_str, attr_prob_str)\n",
        "\n",
        "acc = metrics.accuracy_score(ystr_test, y_pred_str)\n",
        "print(\"Accuracy:\", acc)\n",
        "print('')\n",
        "print(classification_report(ystr_test, y_pred_str))"
      ],
      "execution_count": 27,
      "outputs": [
        {
          "output_type": "stream",
          "name": "stdout",
          "text": [
            "Accuracy: 0.7083333333333334\n",
            "\n",
            "              precision    recall  f1-score   support\n",
            "\n",
            "    negative       0.62      0.39      0.48        33\n",
            "    positive       0.73      0.87      0.80        63\n",
            "\n",
            "    accuracy                           0.71        96\n",
            "   macro avg       0.68      0.63      0.64        96\n",
            "weighted avg       0.69      0.71      0.69        96\n",
            "\n"
          ]
        }
      ]
    }
  ]
}