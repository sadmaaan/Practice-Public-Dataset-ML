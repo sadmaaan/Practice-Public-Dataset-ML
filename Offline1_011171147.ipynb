{
  "nbformat": 4,
  "nbformat_minor": 0,
  "metadata": {
    "colab": {
      "name": "Offline1_011171147.ipynb",
      "provenance": [],
      "collapsed_sections": [],
      "authorship_tag": "ABX9TyPptneY9qUzOLjb9cGLxvHa",
      "include_colab_link": true
    },
    "kernelspec": {
      "name": "python3",
      "display_name": "Python 3"
    },
    "language_info": {
      "name": "python"
    }
  },
  "cells": [
    {
      "cell_type": "markdown",
      "metadata": {
        "id": "view-in-github",
        "colab_type": "text"
      },
      "source": [
        "<a href=\"https://colab.research.google.com/github/sadmaaan/Practice-Public-Dataset-ML/blob/main/Offline1_011171147.ipynb\" target=\"_parent\"><img src=\"https://colab.research.google.com/assets/colab-badge.svg\" alt=\"Open In Colab\"/></a>"
      ]
    },
    {
      "cell_type": "code",
      "metadata": {
        "id": "bNIhrpDeMkDB"
      },
      "source": [
        "import pandas as pd\n",
        "from sklearn.model_selection import train_test_split\n",
        "from sklearn import metrics\n",
        "from sklearn.metrics import confusion_matrix, classification_report"
      ],
      "execution_count": 149,
      "outputs": []
    },
    {
      "cell_type": "code",
      "metadata": {
        "id": "DOkFBxYFM6kX"
      },
      "source": [
        "df = pd.read_csv(\"tic-tac-toe.csv\")"
      ],
      "execution_count": 150,
      "outputs": []
    },
    {
      "cell_type": "code",
      "metadata": {
        "colab": {
          "base_uri": "https://localhost:8080/",
          "height": 220
        },
        "id": "OMyH-cQwNGVt",
        "outputId": "a26e6975-a3a7-485e-ae63-d829e691ec30"
      },
      "source": [
        "df.head()"
      ],
      "execution_count": 151,
      "outputs": [
        {
          "output_type": "execute_result",
          "data": {
            "text/html": [
              "<div>\n",
              "<style scoped>\n",
              "    .dataframe tbody tr th:only-of-type {\n",
              "        vertical-align: middle;\n",
              "    }\n",
              "\n",
              "    .dataframe tbody tr th {\n",
              "        vertical-align: top;\n",
              "    }\n",
              "\n",
              "    .dataframe thead th {\n",
              "        text-align: right;\n",
              "    }\n",
              "</style>\n",
              "<table border=\"1\" class=\"dataframe\">\n",
              "  <thead>\n",
              "    <tr style=\"text-align: right;\">\n",
              "      <th></th>\n",
              "      <th>top-left-square</th>\n",
              "      <th>top-middle-square</th>\n",
              "      <th>top-right-square</th>\n",
              "      <th>middle-left-square</th>\n",
              "      <th>middle-middle-square</th>\n",
              "      <th>middle-right-square</th>\n",
              "      <th>bottom-left-square</th>\n",
              "      <th>bottom-middle-square</th>\n",
              "      <th>bottom-right-square</th>\n",
              "      <th>Class</th>\n",
              "    </tr>\n",
              "  </thead>\n",
              "  <tbody>\n",
              "    <tr>\n",
              "      <th>0</th>\n",
              "      <td>x</td>\n",
              "      <td>x</td>\n",
              "      <td>x</td>\n",
              "      <td>x</td>\n",
              "      <td>o</td>\n",
              "      <td>o</td>\n",
              "      <td>x</td>\n",
              "      <td>o</td>\n",
              "      <td>o</td>\n",
              "      <td>positive</td>\n",
              "    </tr>\n",
              "    <tr>\n",
              "      <th>1</th>\n",
              "      <td>x</td>\n",
              "      <td>x</td>\n",
              "      <td>x</td>\n",
              "      <td>x</td>\n",
              "      <td>o</td>\n",
              "      <td>o</td>\n",
              "      <td>o</td>\n",
              "      <td>x</td>\n",
              "      <td>o</td>\n",
              "      <td>positive</td>\n",
              "    </tr>\n",
              "    <tr>\n",
              "      <th>2</th>\n",
              "      <td>x</td>\n",
              "      <td>x</td>\n",
              "      <td>x</td>\n",
              "      <td>x</td>\n",
              "      <td>o</td>\n",
              "      <td>o</td>\n",
              "      <td>o</td>\n",
              "      <td>o</td>\n",
              "      <td>x</td>\n",
              "      <td>positive</td>\n",
              "    </tr>\n",
              "    <tr>\n",
              "      <th>3</th>\n",
              "      <td>x</td>\n",
              "      <td>x</td>\n",
              "      <td>x</td>\n",
              "      <td>x</td>\n",
              "      <td>o</td>\n",
              "      <td>o</td>\n",
              "      <td>o</td>\n",
              "      <td>b</td>\n",
              "      <td>b</td>\n",
              "      <td>positive</td>\n",
              "    </tr>\n",
              "    <tr>\n",
              "      <th>4</th>\n",
              "      <td>x</td>\n",
              "      <td>x</td>\n",
              "      <td>x</td>\n",
              "      <td>x</td>\n",
              "      <td>o</td>\n",
              "      <td>o</td>\n",
              "      <td>b</td>\n",
              "      <td>o</td>\n",
              "      <td>b</td>\n",
              "      <td>positive</td>\n",
              "    </tr>\n",
              "  </tbody>\n",
              "</table>\n",
              "</div>"
            ],
            "text/plain": [
              "  top-left-square top-middle-square  ... bottom-right-square     Class\n",
              "0               x                 x  ...                   o  positive\n",
              "1               x                 x  ...                   o  positive\n",
              "2               x                 x  ...                   x  positive\n",
              "3               x                 x  ...                   b  positive\n",
              "4               x                 x  ...                   b  positive\n",
              "\n",
              "[5 rows x 10 columns]"
            ]
          },
          "metadata": {},
          "execution_count": 151
        }
      ]
    },
    {
      "cell_type": "code",
      "metadata": {
        "colab": {
          "base_uri": "https://localhost:8080/"
        },
        "id": "wz0SUtBsNZiD",
        "outputId": "ccb0419e-b948-4cd6-9d16-c9bcb801048d"
      },
      "source": [
        "X = df.iloc[:,:-1]\n",
        "y = df.iloc[:,-1]\n",
        "print(X)\n",
        "print(y)"
      ],
      "execution_count": 152,
      "outputs": [
        {
          "output_type": "stream",
          "name": "stdout",
          "text": [
            "    top-left-square top-middle-square  ... bottom-middle-square bottom-right-square\n",
            "0                 x                 x  ...                    o                   o\n",
            "1                 x                 x  ...                    x                   o\n",
            "2                 x                 x  ...                    o                   x\n",
            "3                 x                 x  ...                    b                   b\n",
            "4                 x                 x  ...                    o                   b\n",
            "..              ...               ...  ...                  ...                 ...\n",
            "953               o                 x  ...                    x                   x\n",
            "954               o                 x  ...                    o                   x\n",
            "955               o                 x  ...                    o                   x\n",
            "956               o                 x  ...                    o                   x\n",
            "957               o                 o  ...                    x                   x\n",
            "\n",
            "[958 rows x 9 columns]\n",
            "0      positive\n",
            "1      positive\n",
            "2      positive\n",
            "3      positive\n",
            "4      positive\n",
            "         ...   \n",
            "953    negative\n",
            "954    negative\n",
            "955    negative\n",
            "956    negative\n",
            "957    negative\n",
            "Name: Class, Length: 958, dtype: object\n"
          ]
        }
      ]
    },
    {
      "cell_type": "code",
      "metadata": {
        "id": "OjslesUlNlf0"
      },
      "source": [
        "# Splitting data into 90% train and 10% test\n",
        "X_train, X_test, y_train, y_test = train_test_split(X, y, test_size=0.1, random_state=44)"
      ],
      "execution_count": 153,
      "outputs": []
    },
    {
      "cell_type": "code",
      "metadata": {
        "id": "Sww5e0GS6l0U"
      },
      "source": [
        "def fit(X_train, y_train):\n",
        "  p_positive, p_negative = 0, 0\n",
        "  for y in y_train:\n",
        "    if y == 'positive':\n",
        "      p_positive += 1\n",
        "    else:\n",
        "      p_negative += 1\n",
        "\n",
        "  attributes = [ {} for col in X_train.columns]\n",
        "  for index, col in enumerate(X_train.columns):\n",
        "    for i in X_train.index:\n",
        "      attr_val = X_train[col][i]\n",
        "      if attr_val in attributes[index]:\n",
        "        c = y_train[i]\n",
        "        if c == 'positive':\n",
        "          attributes[index][attr_val][1] += 1\n",
        "        else:\n",
        "          attributes[index][attr_val][0] += 1\n",
        "      else:\n",
        "        attributes[index][attr_val] = [0, 0]\n",
        "        c = y_train[i]\n",
        "        if c == 'positive':\n",
        "          attributes[index][attr_val][1] += 1\n",
        "        else:\n",
        "          attributes[index][attr_val][0] += 1\n",
        "\n",
        "  return p_positive/X_train.shape[0], p_negative/X_train.shape[0], attributes"
      ],
      "execution_count": 154,
      "outputs": []
    },
    {
      "cell_type": "code",
      "metadata": {
        "id": "NTI90bOMfiRH"
      },
      "source": [
        "def predict(X_test, p_positive, p_negative, attr_prob):\n",
        "  y_pred = []\n",
        "\n",
        "  for i in X_test.index:\n",
        "    pos = p_positive\n",
        "    neg = p_negative\n",
        "    for ind,col in enumerate(X_test.columns):\n",
        "      attr = X_test[col][i]\n",
        "      pos *= ((attr_prob[ind][attr][1]) / p_positive)\n",
        "      neg *= ((attr_prob[ind][attr][0]) / p_negative)\n",
        "\n",
        "    p = pos / (pos + neg)\n",
        "    n = 1 - p\n",
        "\n",
        "    if p > n:\n",
        "      y_pred.append('positive')\n",
        "    else:\n",
        "      y_pred.append('negative')\n",
        "  \n",
        "  return y_pred\n"
      ],
      "execution_count": 155,
      "outputs": []
    },
    {
      "cell_type": "code",
      "metadata": {
        "id": "8roAqQCBhsUx"
      },
      "source": [
        "p_positive, p_negative, attr_prob = fit(X_train, y_train)\n",
        "\n",
        "#print(p_positive, p_negative, attr_prob)\n",
        "\n",
        "y_pred = predict(X_test, p_positive, p_negative, attr_prob)\n"
      ],
      "execution_count": 156,
      "outputs": []
    },
    {
      "cell_type": "code",
      "metadata": {
        "id": "-7OC5semTFdi",
        "colab": {
          "base_uri": "https://localhost:8080/"
        },
        "outputId": "f3a132c4-0556-4783-cfc0-302d1dbd1654"
      },
      "source": [
        "acc = metrics.accuracy_score(y_test, y_pred)\n",
        "print(acc)"
      ],
      "execution_count": 157,
      "outputs": [
        {
          "output_type": "stream",
          "name": "stdout",
          "text": [
            "0.7604166666666666\n"
          ]
        }
      ]
    },
    {
      "cell_type": "code",
      "metadata": {
        "colab": {
          "base_uri": "https://localhost:8080/"
        },
        "id": "7tznMQeBSTn-",
        "outputId": "dcdb8a58-1881-4c57-f337-3f14c35636e9"
      },
      "source": [
        "cm = confusion_matrix(y_test, y_pred)\n",
        "print(cm)"
      ],
      "execution_count": 158,
      "outputs": [
        {
          "output_type": "stream",
          "name": "stdout",
          "text": [
            "[[16 12]\n",
            " [11 57]]\n"
          ]
        }
      ]
    },
    {
      "cell_type": "code",
      "metadata": {
        "colab": {
          "base_uri": "https://localhost:8080/"
        },
        "id": "L3khegzASaHf",
        "outputId": "e47a9784-99a9-4505-ad97-55770b5179ac"
      },
      "source": [
        "print(classification_report(y_test,y_pred))"
      ],
      "execution_count": 132,
      "outputs": [
        {
          "output_type": "stream",
          "name": "stdout",
          "text": [
            "              precision    recall  f1-score   support\n",
            "\n",
            "    negative       0.59      0.57      0.58        28\n",
            "    positive       0.83      0.84      0.83        68\n",
            "\n",
            "    accuracy                           0.76        96\n",
            "   macro avg       0.71      0.70      0.71        96\n",
            "weighted avg       0.76      0.76      0.76        96\n",
            "\n"
          ]
        }
      ]
    }
  ]
}